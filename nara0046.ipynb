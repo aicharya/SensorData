{
 "cells": [
  {
   "cell_type": "markdown",
   "metadata": {},
   "source": [
    "# CST8504 Assignment 1: Numpy, Pandas, and Matplotlib\n",
    "\n",
    "In this assignment, you will use Numpy, Pandas, and Matplotlib to process and visualize real-world time-series data.  When you are finished this assignment, you will know how to:\n",
    "* Read data from a CSV file into a DataFrame, parsing the date-time column\n",
    "* Make the date-time column the index of the DataFrame\n",
    "* Round the seconds.thousandths down to even seconds in the date-time index\n",
    "* Resample a time-series DataFrame on the second (taking the average of the values within a second)\n",
    "* Similar to the above point, resample a time-series DataFrame to do various aggregations by various time periods, such as max value by month, or min value by day, etc\n",
    "* Make plots of temperature data and humidity data\n",
    "\n",
    "## Instructions\n",
    "1. You have already unzipped a folder to find this Jupyter notebook there, as well as the unzipped sensor_data folder which contains 6 CSV files of raw data.  Rename this Jupyter notebook to include your Algonquin ID (example: kell0324) in the name instead of \"kelleyt\".\n",
    "2. Go through the following cells, reading/running them, and look for comments that instruct you to supply some code to accomplish a result: supply that code in the code cell.\n",
    "These instructions continue after those cells,\n",
    "[here](#here)\n"
   ]
  },
  {
   "cell_type": "code",
   "execution_count": 1,
   "metadata": {},
   "outputs": [],
   "source": [
    "%matplotlib inline\n",
    "import matplotlib.pyplot as plt\n",
    "plt.style.use('seaborn-whitegrid')\n",
    "import numpy as np\n",
    "import pandas as pd"
   ]
  },
  {
   "cell_type": "markdown",
   "metadata": {},
   "source": [
    "Create a DataFrame by reading a CSV file of temperature data for a node"
   ]
  },
  {
   "cell_type": "code",
   "execution_count": 2,
   "metadata": {},
   "outputs": [],
   "source": [
    "node4temp = pd.read_csv('sensor_data/node4temp.csv')"
   ]
  },
  {
   "cell_type": "markdown",
   "metadata": {},
   "source": [
    "Let's take a look at the resulting DataFrame"
   ]
  },
  {
   "cell_type": "code",
   "execution_count": 3,
   "metadata": {},
   "outputs": [
    {
     "data": {
      "text/html": [
       "<div>\n",
       "<style scoped>\n",
       "    .dataframe tbody tr th:only-of-type {\n",
       "        vertical-align: middle;\n",
       "    }\n",
       "\n",
       "    .dataframe tbody tr th {\n",
       "        vertical-align: top;\n",
       "    }\n",
       "\n",
       "    .dataframe thead th {\n",
       "        text-align: right;\n",
       "    }\n",
       "</style>\n",
       "<table border=\"1\" class=\"dataframe\">\n",
       "  <thead>\n",
       "    <tr style=\"text-align: right;\">\n",
       "      <th></th>\n",
       "      <th>2020-10-18 17:46:00.714</th>\n",
       "      <th>14</th>\n",
       "    </tr>\n",
       "  </thead>\n",
       "  <tbody>\n",
       "    <tr>\n",
       "      <th>0</th>\n",
       "      <td>2020-10-18 17:47:00.844</td>\n",
       "      <td>14.000000</td>\n",
       "    </tr>\n",
       "    <tr>\n",
       "      <th>1</th>\n",
       "      <td>2020-10-18 17:48:00.897</td>\n",
       "      <td>14.000000</td>\n",
       "    </tr>\n",
       "    <tr>\n",
       "      <th>2</th>\n",
       "      <td>2020-10-18 17:49:00.948</td>\n",
       "      <td>14.000000</td>\n",
       "    </tr>\n",
       "    <tr>\n",
       "      <th>3</th>\n",
       "      <td>2020-10-18 17:50:00.996</td>\n",
       "      <td>14.000000</td>\n",
       "    </tr>\n",
       "    <tr>\n",
       "      <th>4</th>\n",
       "      <td>2020-10-18 17:51:00.047</td>\n",
       "      <td>14.000000</td>\n",
       "    </tr>\n",
       "    <tr>\n",
       "      <th>...</th>\n",
       "      <td>...</td>\n",
       "      <td>...</td>\n",
       "    </tr>\n",
       "    <tr>\n",
       "      <th>1024432</th>\n",
       "      <td>2022-09-22 11:18:00.545</td>\n",
       "      <td>24.944444</td>\n",
       "    </tr>\n",
       "    <tr>\n",
       "      <th>1024433</th>\n",
       "      <td>2022-09-22 11:19:00.768</td>\n",
       "      <td>24.944444</td>\n",
       "    </tr>\n",
       "    <tr>\n",
       "      <th>1024434</th>\n",
       "      <td>2022-09-22 11:20:00.984</td>\n",
       "      <td>24.944444</td>\n",
       "    </tr>\n",
       "    <tr>\n",
       "      <th>1024435</th>\n",
       "      <td>2022-09-22 11:21:00.231</td>\n",
       "      <td>24.944444</td>\n",
       "    </tr>\n",
       "    <tr>\n",
       "      <th>1024436</th>\n",
       "      <td>2022-09-22 11:22:00.449</td>\n",
       "      <td>24.944444</td>\n",
       "    </tr>\n",
       "  </tbody>\n",
       "</table>\n",
       "<p>1024437 rows × 2 columns</p>\n",
       "</div>"
      ],
      "text/plain": [
       "         2020-10-18 17:46:00.714         14\n",
       "0        2020-10-18 17:47:00.844  14.000000\n",
       "1        2020-10-18 17:48:00.897  14.000000\n",
       "2        2020-10-18 17:49:00.948  14.000000\n",
       "3        2020-10-18 17:50:00.996  14.000000\n",
       "4        2020-10-18 17:51:00.047  14.000000\n",
       "...                          ...        ...\n",
       "1024432  2022-09-22 11:18:00.545  24.944444\n",
       "1024433  2022-09-22 11:19:00.768  24.944444\n",
       "1024434  2022-09-22 11:20:00.984  24.944444\n",
       "1024435  2022-09-22 11:21:00.231  24.944444\n",
       "1024436  2022-09-22 11:22:00.449  24.944444\n",
       "\n",
       "[1024437 rows x 2 columns]"
      ]
     },
     "execution_count": 3,
     "metadata": {},
     "output_type": "execute_result"
    }
   ],
   "source": [
    "node4temp"
   ]
  },
  {
   "cell_type": "markdown",
   "metadata": {},
   "source": [
    "Notice that our CSV file does not include a column header line of column names, so the first row of data has mistakenly been used for the column names.  We can fix that by reparsing the data and supplying the titles."
   ]
  },
  {
   "cell_type": "code",
   "execution_count": 58,
   "metadata": {},
   "outputs": [],
   "source": [
    "node4temp = pd.read_csv('sensor_data/node4temp.csv', names=['DateTime','Temperature'])"
   ]
  },
  {
   "cell_type": "code",
   "execution_count": 59,
   "metadata": {},
   "outputs": [
    {
     "data": {
      "text/html": [
       "<div>\n",
       "<style scoped>\n",
       "    .dataframe tbody tr th:only-of-type {\n",
       "        vertical-align: middle;\n",
       "    }\n",
       "\n",
       "    .dataframe tbody tr th {\n",
       "        vertical-align: top;\n",
       "    }\n",
       "\n",
       "    .dataframe thead th {\n",
       "        text-align: right;\n",
       "    }\n",
       "</style>\n",
       "<table border=\"1\" class=\"dataframe\">\n",
       "  <thead>\n",
       "    <tr style=\"text-align: right;\">\n",
       "      <th></th>\n",
       "      <th>DateTime</th>\n",
       "      <th>Temperature</th>\n",
       "    </tr>\n",
       "  </thead>\n",
       "  <tbody>\n",
       "    <tr>\n",
       "      <th>0</th>\n",
       "      <td>2020-10-18 17:46:00.714</td>\n",
       "      <td>14.000000</td>\n",
       "    </tr>\n",
       "    <tr>\n",
       "      <th>1</th>\n",
       "      <td>2020-10-18 17:47:00.844</td>\n",
       "      <td>14.000000</td>\n",
       "    </tr>\n",
       "    <tr>\n",
       "      <th>2</th>\n",
       "      <td>2020-10-18 17:48:00.897</td>\n",
       "      <td>14.000000</td>\n",
       "    </tr>\n",
       "    <tr>\n",
       "      <th>3</th>\n",
       "      <td>2020-10-18 17:49:00.948</td>\n",
       "      <td>14.000000</td>\n",
       "    </tr>\n",
       "    <tr>\n",
       "      <th>4</th>\n",
       "      <td>2020-10-18 17:50:00.996</td>\n",
       "      <td>14.000000</td>\n",
       "    </tr>\n",
       "    <tr>\n",
       "      <th>...</th>\n",
       "      <td>...</td>\n",
       "      <td>...</td>\n",
       "    </tr>\n",
       "    <tr>\n",
       "      <th>1024433</th>\n",
       "      <td>2022-09-22 11:18:00.545</td>\n",
       "      <td>24.944444</td>\n",
       "    </tr>\n",
       "    <tr>\n",
       "      <th>1024434</th>\n",
       "      <td>2022-09-22 11:19:00.768</td>\n",
       "      <td>24.944444</td>\n",
       "    </tr>\n",
       "    <tr>\n",
       "      <th>1024435</th>\n",
       "      <td>2022-09-22 11:20:00.984</td>\n",
       "      <td>24.944444</td>\n",
       "    </tr>\n",
       "    <tr>\n",
       "      <th>1024436</th>\n",
       "      <td>2022-09-22 11:21:00.231</td>\n",
       "      <td>24.944444</td>\n",
       "    </tr>\n",
       "    <tr>\n",
       "      <th>1024437</th>\n",
       "      <td>2022-09-22 11:22:00.449</td>\n",
       "      <td>24.944444</td>\n",
       "    </tr>\n",
       "  </tbody>\n",
       "</table>\n",
       "<p>1024438 rows × 2 columns</p>\n",
       "</div>"
      ],
      "text/plain": [
       "                        DateTime  Temperature\n",
       "0        2020-10-18 17:46:00.714    14.000000\n",
       "1        2020-10-18 17:47:00.844    14.000000\n",
       "2        2020-10-18 17:48:00.897    14.000000\n",
       "3        2020-10-18 17:49:00.948    14.000000\n",
       "4        2020-10-18 17:50:00.996    14.000000\n",
       "...                          ...          ...\n",
       "1024433  2022-09-22 11:18:00.545    24.944444\n",
       "1024434  2022-09-22 11:19:00.768    24.944444\n",
       "1024435  2022-09-22 11:20:00.984    24.944444\n",
       "1024436  2022-09-22 11:21:00.231    24.944444\n",
       "1024437  2022-09-22 11:22:00.449    24.944444\n",
       "\n",
       "[1024438 rows x 2 columns]"
      ]
     },
     "execution_count": 59,
     "metadata": {},
     "output_type": "execute_result"
    }
   ],
   "source": [
    "node4temp"
   ]
  },
  {
   "cell_type": "markdown",
   "metadata": {},
   "source": [
    "We have proper column names now.  Let's now check the data types."
   ]
  },
  {
   "cell_type": "code",
   "execution_count": 60,
   "metadata": {},
   "outputs": [
    {
     "data": {
      "text/plain": [
       "(dtype('O'), dtype('float64'))"
      ]
     },
     "execution_count": 60,
     "metadata": {},
     "output_type": "execute_result"
    }
   ],
   "source": [
    "node4temp['DateTime'].dtype, node4temp['Temperature'].dtype"
   ]
  },
  {
   "cell_type": "markdown",
   "metadata": {},
   "source": [
    "The float64 for the temperature value looks good, but you can see that the data type of the DateTime colun is dtype('O'), which means it is a Python object.  We really want it to be a date-time, which would be dtype('<M8[ns]') or dtype('datetime64[ns]').  Let's parse the data again, but this time, supply the parse_dates argument, which you can read about by searching for it on this page https://pandas.pydata.org/docs/reference/api/pandas.read_csv.html.  We will use parse_dates=[0], which is a list (one column in this case), meaning it should parse the 0th column as a datetime."
   ]
  },
  {
   "cell_type": "code",
   "execution_count": 61,
   "metadata": {},
   "outputs": [],
   "source": [
    "node4temp = pd.read_csv('sensor_data/node4temp.csv', names=['DateTime','Temperature'], parse_dates=[0])"
   ]
  },
  {
   "cell_type": "markdown",
   "metadata": {},
   "source": [
    "Now when we check the data type of the DateTime column, it is a little-endian version of dtype('datetime64[ns]'), which is dtype('<M8[ns]').  On a big-endian computer, it would be dtype('>M8[ns]').\n",
    "Another way to do this would have been to use the pd.to_datetime() function\n",
    "node4temp['DateTime'] = pd.to_datetime(node4temp['DateTime'])"
   ]
  },
  {
   "cell_type": "code",
   "execution_count": 62,
   "metadata": {},
   "outputs": [
    {
     "data": {
      "text/plain": [
       "dtype('<M8[ns]')"
      ]
     },
     "execution_count": 62,
     "metadata": {},
     "output_type": "execute_result"
    }
   ],
   "source": [
    "node4temp['DateTime'].dtype"
   ]
  },
  {
   "cell_type": "markdown",
   "metadata": {},
   "source": [
    "We can see the parsed DateTime column represents the same dates and times as before, but now more efficiently"
   ]
  },
  {
   "cell_type": "code",
   "execution_count": 63,
   "metadata": {},
   "outputs": [
    {
     "data": {
      "text/html": [
       "<div>\n",
       "<style scoped>\n",
       "    .dataframe tbody tr th:only-of-type {\n",
       "        vertical-align: middle;\n",
       "    }\n",
       "\n",
       "    .dataframe tbody tr th {\n",
       "        vertical-align: top;\n",
       "    }\n",
       "\n",
       "    .dataframe thead th {\n",
       "        text-align: right;\n",
       "    }\n",
       "</style>\n",
       "<table border=\"1\" class=\"dataframe\">\n",
       "  <thead>\n",
       "    <tr style=\"text-align: right;\">\n",
       "      <th></th>\n",
       "      <th>DateTime</th>\n",
       "      <th>Temperature</th>\n",
       "    </tr>\n",
       "  </thead>\n",
       "  <tbody>\n",
       "    <tr>\n",
       "      <th>0</th>\n",
       "      <td>2020-10-18 17:46:00.714</td>\n",
       "      <td>14.000000</td>\n",
       "    </tr>\n",
       "    <tr>\n",
       "      <th>1</th>\n",
       "      <td>2020-10-18 17:47:00.844</td>\n",
       "      <td>14.000000</td>\n",
       "    </tr>\n",
       "    <tr>\n",
       "      <th>2</th>\n",
       "      <td>2020-10-18 17:48:00.897</td>\n",
       "      <td>14.000000</td>\n",
       "    </tr>\n",
       "    <tr>\n",
       "      <th>3</th>\n",
       "      <td>2020-10-18 17:49:00.948</td>\n",
       "      <td>14.000000</td>\n",
       "    </tr>\n",
       "    <tr>\n",
       "      <th>4</th>\n",
       "      <td>2020-10-18 17:50:00.996</td>\n",
       "      <td>14.000000</td>\n",
       "    </tr>\n",
       "    <tr>\n",
       "      <th>...</th>\n",
       "      <td>...</td>\n",
       "      <td>...</td>\n",
       "    </tr>\n",
       "    <tr>\n",
       "      <th>1024433</th>\n",
       "      <td>2022-09-22 11:18:00.545</td>\n",
       "      <td>24.944444</td>\n",
       "    </tr>\n",
       "    <tr>\n",
       "      <th>1024434</th>\n",
       "      <td>2022-09-22 11:19:00.768</td>\n",
       "      <td>24.944444</td>\n",
       "    </tr>\n",
       "    <tr>\n",
       "      <th>1024435</th>\n",
       "      <td>2022-09-22 11:20:00.984</td>\n",
       "      <td>24.944444</td>\n",
       "    </tr>\n",
       "    <tr>\n",
       "      <th>1024436</th>\n",
       "      <td>2022-09-22 11:21:00.231</td>\n",
       "      <td>24.944444</td>\n",
       "    </tr>\n",
       "    <tr>\n",
       "      <th>1024437</th>\n",
       "      <td>2022-09-22 11:22:00.449</td>\n",
       "      <td>24.944444</td>\n",
       "    </tr>\n",
       "  </tbody>\n",
       "</table>\n",
       "<p>1024438 rows × 2 columns</p>\n",
       "</div>"
      ],
      "text/plain": [
       "                       DateTime  Temperature\n",
       "0       2020-10-18 17:46:00.714    14.000000\n",
       "1       2020-10-18 17:47:00.844    14.000000\n",
       "2       2020-10-18 17:48:00.897    14.000000\n",
       "3       2020-10-18 17:49:00.948    14.000000\n",
       "4       2020-10-18 17:50:00.996    14.000000\n",
       "...                         ...          ...\n",
       "1024433 2022-09-22 11:18:00.545    24.944444\n",
       "1024434 2022-09-22 11:19:00.768    24.944444\n",
       "1024435 2022-09-22 11:20:00.984    24.944444\n",
       "1024436 2022-09-22 11:21:00.231    24.944444\n",
       "1024437 2022-09-22 11:22:00.449    24.944444\n",
       "\n",
       "[1024438 rows x 2 columns]"
      ]
     },
     "execution_count": 63,
     "metadata": {},
     "output_type": "execute_result"
    }
   ],
   "source": [
    "node4temp"
   ]
  },
  {
   "cell_type": "markdown",
   "metadata": {},
   "source": [
    "We will set the DateTime column as the index.  This will turn it back into Objects again, so with the second line we reconvert the Objects to date-time values."
   ]
  },
  {
   "cell_type": "code",
   "execution_count": 64,
   "metadata": {},
   "outputs": [],
   "source": [
    "node4temp.set_index('DateTime', inplace=True)"
   ]
  },
  {
   "cell_type": "markdown",
   "metadata": {},
   "source": [
    "We can use the loc attribute (Deitel 7.14.2) to retrieve the rows for December 25, 2021 as in the cell below.  Note that if the DateTime were a non-index datetime column, we could use boolean indexing: onedayDec252021 = node4temp[(node4temp['DateTime'] > pd.to_datetime('2021-12-25')) & (node4temp['DateTime'] < pd.to_datetime('2021-12-26'))]"
   ]
  },
  {
   "cell_type": "code",
   "execution_count": 66,
   "metadata": {},
   "outputs": [
    {
     "data": {
      "text/html": [
       "<div>\n",
       "<style scoped>\n",
       "    .dataframe tbody tr th:only-of-type {\n",
       "        vertical-align: middle;\n",
       "    }\n",
       "\n",
       "    .dataframe tbody tr th {\n",
       "        vertical-align: top;\n",
       "    }\n",
       "\n",
       "    .dataframe thead th {\n",
       "        text-align: right;\n",
       "    }\n",
       "</style>\n",
       "<table border=\"1\" class=\"dataframe\">\n",
       "  <thead>\n",
       "    <tr style=\"text-align: right;\">\n",
       "      <th></th>\n",
       "      <th>Temperature</th>\n",
       "    </tr>\n",
       "    <tr>\n",
       "      <th>DateTime</th>\n",
       "      <th></th>\n",
       "    </tr>\n",
       "  </thead>\n",
       "  <tbody>\n",
       "    <tr>\n",
       "      <th>2021-12-25 00:00:00.254</th>\n",
       "      <td>20.833333</td>\n",
       "    </tr>\n",
       "    <tr>\n",
       "      <th>2021-12-25 00:01:00.414</th>\n",
       "      <td>20.833333</td>\n",
       "    </tr>\n",
       "    <tr>\n",
       "      <th>2021-12-25 00:02:00.575</th>\n",
       "      <td>20.833333</td>\n",
       "    </tr>\n",
       "    <tr>\n",
       "      <th>2021-12-25 00:03:00.745</th>\n",
       "      <td>20.833333</td>\n",
       "    </tr>\n",
       "    <tr>\n",
       "      <th>2021-12-25 00:04:00.908</th>\n",
       "      <td>20.833333</td>\n",
       "    </tr>\n",
       "    <tr>\n",
       "      <th>...</th>\n",
       "      <td>...</td>\n",
       "    </tr>\n",
       "    <tr>\n",
       "      <th>2021-12-25 23:55:01.020</th>\n",
       "      <td>21.388889</td>\n",
       "    </tr>\n",
       "    <tr>\n",
       "      <th>2021-12-25 23:56:00.181</th>\n",
       "      <td>21.388889</td>\n",
       "    </tr>\n",
       "    <tr>\n",
       "      <th>2021-12-25 23:57:00.340</th>\n",
       "      <td>21.388889</td>\n",
       "    </tr>\n",
       "    <tr>\n",
       "      <th>2021-12-25 23:58:00.504</th>\n",
       "      <td>21.388889</td>\n",
       "    </tr>\n",
       "    <tr>\n",
       "      <th>2021-12-25 23:59:00.673</th>\n",
       "      <td>21.388889</td>\n",
       "    </tr>\n",
       "  </tbody>\n",
       "</table>\n",
       "<p>1455 rows × 1 columns</p>\n",
       "</div>"
      ],
      "text/plain": [
       "                         Temperature\n",
       "DateTime                            \n",
       "2021-12-25 00:00:00.254    20.833333\n",
       "2021-12-25 00:01:00.414    20.833333\n",
       "2021-12-25 00:02:00.575    20.833333\n",
       "2021-12-25 00:03:00.745    20.833333\n",
       "2021-12-25 00:04:00.908    20.833333\n",
       "...                              ...\n",
       "2021-12-25 23:55:01.020    21.388889\n",
       "2021-12-25 23:56:00.181    21.388889\n",
       "2021-12-25 23:57:00.340    21.388889\n",
       "2021-12-25 23:58:00.504    21.388889\n",
       "2021-12-25 23:59:00.673    21.388889\n",
       "\n",
       "[1455 rows x 1 columns]"
      ]
     },
     "execution_count": 66,
     "metadata": {},
     "output_type": "execute_result"
    }
   ],
   "source": [
    "node4temp.loc['2021-12-25']"
   ]
  },
  {
   "cell_type": "markdown",
   "metadata": {},
   "source": [
    "We can try to retrieve 2 days with slicing, but notice the deprecation warning"
   ]
  },
  {
   "cell_type": "code",
   "execution_count": 67,
   "metadata": {},
   "outputs": [
    {
     "name": "stderr",
     "output_type": "stream",
     "text": [
      "C:\\Users\\Todd Kelley\\AppData\\Local\\Temp\\ipykernel_7240\\1060610848.py:1: FutureWarning: Value based partial slicing on non-monotonic DatetimeIndexes with non-existing keys is deprecated and will raise a KeyError in a future Version.\n",
      "  twodays = node4temp.loc['2021-12-25':'2021-12-26']\n"
     ]
    }
   ],
   "source": [
    "twodays = node4temp.loc['2021-12-25':'2021-12-26']"
   ]
  },
  {
   "cell_type": "markdown",
   "metadata": {},
   "source": [
    "To address this warning, we will sort the index to ensure it is monotonic.  Once the index\n",
    "is sorted, it is guaranteed to be monotonic (in this case, always increasing)."
   ]
  },
  {
   "cell_type": "code",
   "execution_count": 68,
   "metadata": {},
   "outputs": [],
   "source": [
    "node4temp.sort_index(inplace=True)"
   ]
  },
  {
   "cell_type": "markdown",
   "metadata": {},
   "source": [
    "Now we can use slices with loc and non-existant values.  '2021-12-25' is a\n",
    "non-existent value because '2021-12-25 00:00:00.000' is not actually in the data."
   ]
  },
  {
   "cell_type": "code",
   "execution_count": 69,
   "metadata": {},
   "outputs": [
    {
     "data": {
      "text/html": [
       "<div>\n",
       "<style scoped>\n",
       "    .dataframe tbody tr th:only-of-type {\n",
       "        vertical-align: middle;\n",
       "    }\n",
       "\n",
       "    .dataframe tbody tr th {\n",
       "        vertical-align: top;\n",
       "    }\n",
       "\n",
       "    .dataframe thead th {\n",
       "        text-align: right;\n",
       "    }\n",
       "</style>\n",
       "<table border=\"1\" class=\"dataframe\">\n",
       "  <thead>\n",
       "    <tr style=\"text-align: right;\">\n",
       "      <th></th>\n",
       "      <th>Temperature</th>\n",
       "    </tr>\n",
       "    <tr>\n",
       "      <th>DateTime</th>\n",
       "      <th></th>\n",
       "    </tr>\n",
       "  </thead>\n",
       "  <tbody>\n",
       "    <tr>\n",
       "      <th>2021-12-25 00:00:00.254</th>\n",
       "      <td>20.833333</td>\n",
       "    </tr>\n",
       "    <tr>\n",
       "      <th>2021-12-25 00:01:00.414</th>\n",
       "      <td>20.833333</td>\n",
       "    </tr>\n",
       "    <tr>\n",
       "      <th>2021-12-25 00:02:00.575</th>\n",
       "      <td>20.833333</td>\n",
       "    </tr>\n",
       "    <tr>\n",
       "      <th>2021-12-25 00:03:00.745</th>\n",
       "      <td>20.833333</td>\n",
       "    </tr>\n",
       "    <tr>\n",
       "      <th>2021-12-25 00:04:00.908</th>\n",
       "      <td>20.833333</td>\n",
       "    </tr>\n",
       "    <tr>\n",
       "      <th>...</th>\n",
       "      <td>...</td>\n",
       "    </tr>\n",
       "    <tr>\n",
       "      <th>2021-12-26 23:55:00.540</th>\n",
       "      <td>21.500000</td>\n",
       "    </tr>\n",
       "    <tr>\n",
       "      <th>2021-12-26 23:56:00.713</th>\n",
       "      <td>21.500000</td>\n",
       "    </tr>\n",
       "    <tr>\n",
       "      <th>2021-12-26 23:57:00.883</th>\n",
       "      <td>21.500000</td>\n",
       "    </tr>\n",
       "    <tr>\n",
       "      <th>2021-12-26 23:58:01.051</th>\n",
       "      <td>21.500000</td>\n",
       "    </tr>\n",
       "    <tr>\n",
       "      <th>2021-12-26 23:59:00.226</th>\n",
       "      <td>21.500000</td>\n",
       "    </tr>\n",
       "  </tbody>\n",
       "</table>\n",
       "<p>2908 rows × 1 columns</p>\n",
       "</div>"
      ],
      "text/plain": [
       "                         Temperature\n",
       "DateTime                            \n",
       "2021-12-25 00:00:00.254    20.833333\n",
       "2021-12-25 00:01:00.414    20.833333\n",
       "2021-12-25 00:02:00.575    20.833333\n",
       "2021-12-25 00:03:00.745    20.833333\n",
       "2021-12-25 00:04:00.908    20.833333\n",
       "...                              ...\n",
       "2021-12-26 23:55:00.540    21.500000\n",
       "2021-12-26 23:56:00.713    21.500000\n",
       "2021-12-26 23:57:00.883    21.500000\n",
       "2021-12-26 23:58:01.051    21.500000\n",
       "2021-12-26 23:59:00.226    21.500000\n",
       "\n",
       "[2908 rows x 1 columns]"
      ]
     },
     "execution_count": 69,
     "metadata": {},
     "output_type": "execute_result"
    }
   ],
   "source": [
    "node4temp.loc['2021-12-25':'2021-12-26']"
   ]
  },
  {
   "cell_type": "markdown",
   "metadata": {},
   "source": [
    "With the loc attribute, we can retrieve the rows for December, 2021"
   ]
  },
  {
   "cell_type": "code",
   "execution_count": 70,
   "metadata": {},
   "outputs": [
    {
     "data": {
      "text/html": [
       "<div>\n",
       "<style scoped>\n",
       "    .dataframe tbody tr th:only-of-type {\n",
       "        vertical-align: middle;\n",
       "    }\n",
       "\n",
       "    .dataframe tbody tr th {\n",
       "        vertical-align: top;\n",
       "    }\n",
       "\n",
       "    .dataframe thead th {\n",
       "        text-align: right;\n",
       "    }\n",
       "</style>\n",
       "<table border=\"1\" class=\"dataframe\">\n",
       "  <thead>\n",
       "    <tr style=\"text-align: right;\">\n",
       "      <th></th>\n",
       "      <th>Temperature</th>\n",
       "    </tr>\n",
       "    <tr>\n",
       "      <th>DateTime</th>\n",
       "      <th></th>\n",
       "    </tr>\n",
       "  </thead>\n",
       "  <tbody>\n",
       "    <tr>\n",
       "      <th>2021-12-01 00:00:00.943</th>\n",
       "      <td>19.611111</td>\n",
       "    </tr>\n",
       "    <tr>\n",
       "      <th>2021-12-01 00:01:01.098</th>\n",
       "      <td>19.611111</td>\n",
       "    </tr>\n",
       "    <tr>\n",
       "      <th>2021-12-01 00:02:00.257</th>\n",
       "      <td>19.611111</td>\n",
       "    </tr>\n",
       "    <tr>\n",
       "      <th>2021-12-01 00:03:00.411</th>\n",
       "      <td>19.611111</td>\n",
       "    </tr>\n",
       "    <tr>\n",
       "      <th>2021-12-01 00:04:00.560</th>\n",
       "      <td>19.611111</td>\n",
       "    </tr>\n",
       "    <tr>\n",
       "      <th>...</th>\n",
       "      <td>...</td>\n",
       "    </tr>\n",
       "    <tr>\n",
       "      <th>2021-12-31 23:55:00.347</th>\n",
       "      <td>13.000000</td>\n",
       "    </tr>\n",
       "    <tr>\n",
       "      <th>2021-12-31 23:56:00.510</th>\n",
       "      <td>13.000000</td>\n",
       "    </tr>\n",
       "    <tr>\n",
       "      <th>2021-12-31 23:57:00.667</th>\n",
       "      <td>13.000000</td>\n",
       "    </tr>\n",
       "    <tr>\n",
       "      <th>2021-12-31 23:58:00.833</th>\n",
       "      <td>13.000000</td>\n",
       "    </tr>\n",
       "    <tr>\n",
       "      <th>2021-12-31 23:59:00.999</th>\n",
       "      <td>13.000000</td>\n",
       "    </tr>\n",
       "  </tbody>\n",
       "</table>\n",
       "<p>45184 rows × 1 columns</p>\n",
       "</div>"
      ],
      "text/plain": [
       "                         Temperature\n",
       "DateTime                            \n",
       "2021-12-01 00:00:00.943    19.611111\n",
       "2021-12-01 00:01:01.098    19.611111\n",
       "2021-12-01 00:02:00.257    19.611111\n",
       "2021-12-01 00:03:00.411    19.611111\n",
       "2021-12-01 00:04:00.560    19.611111\n",
       "...                              ...\n",
       "2021-12-31 23:55:00.347    13.000000\n",
       "2021-12-31 23:56:00.510    13.000000\n",
       "2021-12-31 23:57:00.667    13.000000\n",
       "2021-12-31 23:58:00.833    13.000000\n",
       "2021-12-31 23:59:00.999    13.000000\n",
       "\n",
       "[45184 rows x 1 columns]"
      ]
     },
     "execution_count": 70,
     "metadata": {},
     "output_type": "execute_result"
    }
   ],
   "source": [
    "node4temp.loc['2021-12']"
   ]
  },
  {
   "cell_type": "markdown",
   "metadata": {},
   "source": [
    "We can also retrieve rows that satisfy various conditions, like Temperature = 20"
   ]
  },
  {
   "cell_type": "code",
   "execution_count": 128,
   "metadata": {},
   "outputs": [
    {
     "data": {
      "text/html": [
       "<div>\n",
       "<style scoped>\n",
       "    .dataframe tbody tr th:only-of-type {\n",
       "        vertical-align: middle;\n",
       "    }\n",
       "\n",
       "    .dataframe tbody tr th {\n",
       "        vertical-align: top;\n",
       "    }\n",
       "\n",
       "    .dataframe thead th {\n",
       "        text-align: right;\n",
       "    }\n",
       "</style>\n",
       "<table border=\"1\" class=\"dataframe\">\n",
       "  <thead>\n",
       "    <tr style=\"text-align: right;\">\n",
       "      <th></th>\n",
       "      <th>Temperature</th>\n",
       "    </tr>\n",
       "    <tr>\n",
       "      <th>DateTime</th>\n",
       "      <th></th>\n",
       "    </tr>\n",
       "  </thead>\n",
       "  <tbody>\n",
       "    <tr>\n",
       "      <th>2020-12-03 16:54:00</th>\n",
       "      <td>20.0</td>\n",
       "    </tr>\n",
       "    <tr>\n",
       "      <th>2020-12-03 16:55:00</th>\n",
       "      <td>20.0</td>\n",
       "    </tr>\n",
       "    <tr>\n",
       "      <th>2020-12-03 16:56:00</th>\n",
       "      <td>20.0</td>\n",
       "    </tr>\n",
       "    <tr>\n",
       "      <th>2020-12-03 16:57:00</th>\n",
       "      <td>20.0</td>\n",
       "    </tr>\n",
       "    <tr>\n",
       "      <th>2020-12-03 16:58:00</th>\n",
       "      <td>20.0</td>\n",
       "    </tr>\n",
       "    <tr>\n",
       "      <th>...</th>\n",
       "      <td>...</td>\n",
       "    </tr>\n",
       "    <tr>\n",
       "      <th>2022-06-05 00:55:00</th>\n",
       "      <td>20.0</td>\n",
       "    </tr>\n",
       "    <tr>\n",
       "      <th>2022-06-05 00:56:00</th>\n",
       "      <td>20.0</td>\n",
       "    </tr>\n",
       "    <tr>\n",
       "      <th>2022-06-05 00:57:00</th>\n",
       "      <td>20.0</td>\n",
       "    </tr>\n",
       "    <tr>\n",
       "      <th>2022-06-20 04:52:00</th>\n",
       "      <td>20.0</td>\n",
       "    </tr>\n",
       "    <tr>\n",
       "      <th>2022-06-20 09:52:00</th>\n",
       "      <td>20.0</td>\n",
       "    </tr>\n",
       "  </tbody>\n",
       "</table>\n",
       "<p>7423 rows × 1 columns</p>\n",
       "</div>"
      ],
      "text/plain": [
       "                     Temperature\n",
       "DateTime                        \n",
       "2020-12-03 16:54:00         20.0\n",
       "2020-12-03 16:55:00         20.0\n",
       "2020-12-03 16:56:00         20.0\n",
       "2020-12-03 16:57:00         20.0\n",
       "2020-12-03 16:58:00         20.0\n",
       "...                          ...\n",
       "2022-06-05 00:55:00         20.0\n",
       "2022-06-05 00:56:00         20.0\n",
       "2022-06-05 00:57:00         20.0\n",
       "2022-06-20 04:52:00         20.0\n",
       "2022-06-20 09:52:00         20.0\n",
       "\n",
       "[7423 rows x 1 columns]"
      ]
     },
     "execution_count": 128,
     "metadata": {},
     "output_type": "execute_result"
    }
   ],
   "source": [
    "node4temp[node4temp['Temperature'] == 20]"
   ]
  },
  {
   "cell_type": "markdown",
   "metadata": {},
   "source": [
    "Let's plot the data for December 25, 2021\n"
   ]
  },
  {
   "cell_type": "code",
   "execution_count": 71,
   "metadata": {},
   "outputs": [
    {
     "data": {
      "image/png": "[encoded data removed]",
      "text/plain": [
       "<Figure size 432x288 with 1 Axes>"
      ]
     },
     "metadata": {},
     "output_type": "display_data"
    }
   ],
   "source": [
    "fig = plt.figure()\n",
    "ax = plt.axes()\n",
    "ax.plot(node4temp.loc['2021-12-25'])\n",
    "labels = plt.xticks(rotation='vertical')\n",
    "#insert code for title 'Dec 25 Node4 Temperature'\n",
    "#insert code for xlabel 'time'\n",
    "#insert code for ylabel 'temp'"
   ]
  },
  {
   "cell_type": "markdown",
   "metadata": {},
   "source": [
    "Now, let's truncate the DateTime values by rounding down to the second:"
   ]
  },
  {
   "cell_type": "code",
   "execution_count": 72,
   "metadata": {},
   "outputs": [],
   "source": [
    "node4temp.index = node4temp.index.floor('S')"
   ]
  },
  {
   "cell_type": "markdown",
   "metadata": {},
   "source": [
    "Now the nanoseconds are gone from the DateTime.\n",
    "Notice that the sampling rate seems to be 1 minute, mostly exactly on the minute, but not in the first minutes of December 2021.  Write code in the cell below that will show just the first 10 minutes of December 2021:"
   ]
  },
  {
   "cell_type": "code",
   "execution_count": 73,
   "metadata": {},
   "outputs": [],
   "source": [
    "#insert code here to show just the first 10 minutes of December 2021 from node4temp"
   ]
  },
  {
   "cell_type": "markdown",
   "metadata": {},
   "source": [
    "Notice the temperature doesn't change quickly, and there are a couple of samples taken at the 1 second mark instead of at 0 seconds after the minute. We will now resample the data to make all the samples right on the minute (1min). Scroll down on this page to see the table for the different time periods: https://pandas.pydata.org/pandas-docs/stable/user_guide/timeseries.html#dateoffset-objects).  We will use the mean of possible multiple values during the minute.  \n",
    "Notice:\n",
    "* Resampling the index produces a new DataFrame.  In the cell below, we keep just the new one.\n",
    "* Resampling a datatime index can be done based on other time periods like days, months, years, etc.\n",
    "* Resampling can use different aggregate functions, like mean, min, max, count, which are applied to the multiple values that fall within the resampling time period.  For example, resampling by month will involve aggregating many values from each month into one value for that month.\n",
    "The above points will be useful to you when you are asked to plot the monthly max temperature, for example."
   ]
  },
  {
   "cell_type": "code",
   "execution_count": 116,
   "metadata": {},
   "outputs": [],
   "source": [
    "node4temp = node4temp.resample('1min').mean()"
   ]
  },
  {
   "cell_type": "markdown",
   "metadata": {},
   "source": [
    "After the above cell executes, we can see that we've replaced our original DataFrame with the new DataFrame.  If we had used a different variable name on the left side of the assignment, we would have both the new and the old DataFrames."
   ]
  },
  {
   "cell_type": "code",
   "execution_count": 75,
   "metadata": {},
   "outputs": [
    {
     "data": {
      "text/html": [
       "<div>\n",
       "<style scoped>\n",
       "    .dataframe tbody tr th:only-of-type {\n",
       "        vertical-align: middle;\n",
       "    }\n",
       "\n",
       "    .dataframe tbody tr th {\n",
       "        vertical-align: top;\n",
       "    }\n",
       "\n",
       "    .dataframe thead th {\n",
       "        text-align: right;\n",
       "    }\n",
       "</style>\n",
       "<table border=\"1\" class=\"dataframe\">\n",
       "  <thead>\n",
       "    <tr style=\"text-align: right;\">\n",
       "      <th></th>\n",
       "      <th>Temperature</th>\n",
       "    </tr>\n",
       "    <tr>\n",
       "      <th>DateTime</th>\n",
       "      <th></th>\n",
       "    </tr>\n",
       "  </thead>\n",
       "  <tbody>\n",
       "    <tr>\n",
       "      <th>2021-12-01 00:00:00</th>\n",
       "      <td>19.611111</td>\n",
       "    </tr>\n",
       "    <tr>\n",
       "      <th>2021-12-01 00:01:00</th>\n",
       "      <td>19.611111</td>\n",
       "    </tr>\n",
       "    <tr>\n",
       "      <th>2021-12-01 00:02:00</th>\n",
       "      <td>19.611111</td>\n",
       "    </tr>\n",
       "    <tr>\n",
       "      <th>2021-12-01 00:03:00</th>\n",
       "      <td>19.611111</td>\n",
       "    </tr>\n",
       "    <tr>\n",
       "      <th>2021-12-01 00:04:00</th>\n",
       "      <td>19.611111</td>\n",
       "    </tr>\n",
       "    <tr>\n",
       "      <th>...</th>\n",
       "      <td>...</td>\n",
       "    </tr>\n",
       "    <tr>\n",
       "      <th>2021-12-01 23:55:00</th>\n",
       "      <td>19.777778</td>\n",
       "    </tr>\n",
       "    <tr>\n",
       "      <th>2021-12-01 23:56:00</th>\n",
       "      <td>19.777778</td>\n",
       "    </tr>\n",
       "    <tr>\n",
       "      <th>2021-12-01 23:57:00</th>\n",
       "      <td>19.777778</td>\n",
       "    </tr>\n",
       "    <tr>\n",
       "      <th>2021-12-01 23:58:00</th>\n",
       "      <td>19.777778</td>\n",
       "    </tr>\n",
       "    <tr>\n",
       "      <th>2021-12-01 23:59:00</th>\n",
       "      <td>19.777778</td>\n",
       "    </tr>\n",
       "  </tbody>\n",
       "</table>\n",
       "<p>1440 rows × 1 columns</p>\n",
       "</div>"
      ],
      "text/plain": [
       "                     Temperature\n",
       "DateTime                        \n",
       "2021-12-01 00:00:00    19.611111\n",
       "2021-12-01 00:01:00    19.611111\n",
       "2021-12-01 00:02:00    19.611111\n",
       "2021-12-01 00:03:00    19.611111\n",
       "2021-12-01 00:04:00    19.611111\n",
       "...                          ...\n",
       "2021-12-01 23:55:00    19.777778\n",
       "2021-12-01 23:56:00    19.777778\n",
       "2021-12-01 23:57:00    19.777778\n",
       "2021-12-01 23:58:00    19.777778\n",
       "2021-12-01 23:59:00    19.777778\n",
       "\n",
       "[1440 rows x 1 columns]"
      ]
     },
     "execution_count": 75,
     "metadata": {},
     "output_type": "execute_result"
    }
   ],
   "source": [
    "node4temp.loc['2021-12-01']"
   ]
  },
  {
   "cell_type": "code",
   "execution_count": 77,
   "metadata": {},
   "outputs": [
    {
     "data": {
      "text/html": [
       "<div>\n",
       "<style scoped>\n",
       "    .dataframe tbody tr th:only-of-type {\n",
       "        vertical-align: middle;\n",
       "    }\n",
       "\n",
       "    .dataframe tbody tr th {\n",
       "        vertical-align: top;\n",
       "    }\n",
       "\n",
       "    .dataframe thead th {\n",
       "        text-align: right;\n",
       "    }\n",
       "</style>\n",
       "<table border=\"1\" class=\"dataframe\">\n",
       "  <thead>\n",
       "    <tr style=\"text-align: right;\">\n",
       "      <th></th>\n",
       "      <th>Temperature</th>\n",
       "    </tr>\n",
       "  </thead>\n",
       "  <tbody>\n",
       "    <tr>\n",
       "      <th>count</th>\n",
       "      <td>996057.000000</td>\n",
       "    </tr>\n",
       "    <tr>\n",
       "      <th>mean</th>\n",
       "      <td>19.817380</td>\n",
       "    </tr>\n",
       "    <tr>\n",
       "      <th>std</th>\n",
       "      <td>4.346382</td>\n",
       "    </tr>\n",
       "    <tr>\n",
       "      <th>min</th>\n",
       "      <td>-17.777778</td>\n",
       "    </tr>\n",
       "    <tr>\n",
       "      <th>25%</th>\n",
       "      <td>17.900000</td>\n",
       "    </tr>\n",
       "    <tr>\n",
       "      <th>50%</th>\n",
       "      <td>20.500000</td>\n",
       "    </tr>\n",
       "    <tr>\n",
       "      <th>75%</th>\n",
       "      <td>22.200000</td>\n",
       "    </tr>\n",
       "    <tr>\n",
       "      <th>max</th>\n",
       "      <td>293.888889</td>\n",
       "    </tr>\n",
       "  </tbody>\n",
       "</table>\n",
       "</div>"
      ],
      "text/plain": [
       "         Temperature\n",
       "count  996057.000000\n",
       "mean       19.817380\n",
       "std         4.346382\n",
       "min       -17.777778\n",
       "25%        17.900000\n",
       "50%        20.500000\n",
       "75%        22.200000\n",
       "max       293.888889"
      ]
     },
     "execution_count": 77,
     "metadata": {},
     "output_type": "execute_result"
    }
   ],
   "source": [
    "node4temp.describe()"
   ]
  },
  {
   "cell_type": "markdown",
   "metadata": {},
   "source": [
    "This is data from one sensor.  Your task in this assignment is to combine all the CSV files into one DataFrame for temperature, and one DataFrame for humidity, and use Matplotlib to plot the data in various ways.  We can repeat the process above for the rest of the CSV files, but how do we combine DataFrames?  Let's start with two sample DataFrames:"
   ]
  },
  {
   "cell_type": "code",
   "execution_count": 102,
   "metadata": {},
   "outputs": [],
   "source": [
    "values1 = {'values1' : np.linspace(10,20,9)}\n",
    "values2 = {'values2' : np.linspace(20,30,10)}\n",
    "index1 = pd.DatetimeIndex(['2003-11-20 13:07:40',\n",
    "           '2003-11-20 13:16:13',\n",
    "           '2003-11-20 13:24:44',\n",
    "           '2003-11-20 13:33:17',\n",
    "           '2003-11-20 13:41:49',\n",
    "           '2003-11-20 13:50:20',\n",
    "           '2003-11-20 13:58:53',\n",
    "           '2003-11-20 14:07:24',\n",
    "           '2003-11-20 14:15:57'],\n",
    "          dtype='datetime64[ns]')\n",
    "index2 = pd.DatetimeIndex(['2003-11-20 13:07:40',\n",
    "           '2003-11-20 13:16:13',\n",
    "           '2003-11-20 13:24:44',\n",
    "           '2003-11-20 13:33:17',\n",
    "           '2003-11-20 13:41:49',\n",
    "           '2003-11-20 13:50:20',\n",
    "           '2003-11-20 13:58:53',\n",
    "           '2003-11-20 14:07:24',\n",
    "           '2003-11-20 14:15:57',\n",
    "           '2003-11-20 14:24:28'],\n",
    "          dtype='datetime64[ns]')\n",
    "\n",
    "df_one = pd.DataFrame(values1)\n",
    "df_one.index = index1\n",
    "df_two = pd.DataFrame(values2)\n",
    "df_two.index = index2\n"
   ]
  },
  {
   "cell_type": "code",
   "execution_count": 103,
   "metadata": {},
   "outputs": [
    {
     "data": {
      "text/html": [
       "<div>\n",
       "<style scoped>\n",
       "    .dataframe tbody tr th:only-of-type {\n",
       "        vertical-align: middle;\n",
       "    }\n",
       "\n",
       "    .dataframe tbody tr th {\n",
       "        vertical-align: top;\n",
       "    }\n",
       "\n",
       "    .dataframe thead th {\n",
       "        text-align: right;\n",
       "    }\n",
       "</style>\n",
       "<table border=\"1\" class=\"dataframe\">\n",
       "  <thead>\n",
       "    <tr style=\"text-align: right;\">\n",
       "      <th></th>\n",
       "      <th>values1</th>\n",
       "    </tr>\n",
       "  </thead>\n",
       "  <tbody>\n",
       "    <tr>\n",
       "      <th>2003-11-20 13:07:40</th>\n",
       "      <td>10.00</td>\n",
       "    </tr>\n",
       "    <tr>\n",
       "      <th>2003-11-20 13:16:13</th>\n",
       "      <td>11.25</td>\n",
       "    </tr>\n",
       "    <tr>\n",
       "      <th>2003-11-20 13:24:44</th>\n",
       "      <td>12.50</td>\n",
       "    </tr>\n",
       "    <tr>\n",
       "      <th>2003-11-20 13:33:17</th>\n",
       "      <td>13.75</td>\n",
       "    </tr>\n",
       "    <tr>\n",
       "      <th>2003-11-20 13:41:49</th>\n",
       "      <td>15.00</td>\n",
       "    </tr>\n",
       "    <tr>\n",
       "      <th>2003-11-20 13:50:20</th>\n",
       "      <td>16.25</td>\n",
       "    </tr>\n",
       "    <tr>\n",
       "      <th>2003-11-20 13:58:53</th>\n",
       "      <td>17.50</td>\n",
       "    </tr>\n",
       "    <tr>\n",
       "      <th>2003-11-20 14:07:24</th>\n",
       "      <td>18.75</td>\n",
       "    </tr>\n",
       "    <tr>\n",
       "      <th>2003-11-20 14:15:57</th>\n",
       "      <td>20.00</td>\n",
       "    </tr>\n",
       "  </tbody>\n",
       "</table>\n",
       "</div>"
      ],
      "text/plain": [
       "                     values1\n",
       "2003-11-20 13:07:40    10.00\n",
       "2003-11-20 13:16:13    11.25\n",
       "2003-11-20 13:24:44    12.50\n",
       "2003-11-20 13:33:17    13.75\n",
       "2003-11-20 13:41:49    15.00\n",
       "2003-11-20 13:50:20    16.25\n",
       "2003-11-20 13:58:53    17.50\n",
       "2003-11-20 14:07:24    18.75\n",
       "2003-11-20 14:15:57    20.00"
      ]
     },
     "execution_count": 103,
     "metadata": {},
     "output_type": "execute_result"
    }
   ],
   "source": [
    "df_one"
   ]
  },
  {
   "cell_type": "code",
   "execution_count": 104,
   "metadata": {},
   "outputs": [
    {
     "data": {
      "text/html": [
       "<div>\n",
       "<style scoped>\n",
       "    .dataframe tbody tr th:only-of-type {\n",
       "        vertical-align: middle;\n",
       "    }\n",
       "\n",
       "    .dataframe tbody tr th {\n",
       "        vertical-align: top;\n",
       "    }\n",
       "\n",
       "    .dataframe thead th {\n",
       "        text-align: right;\n",
       "    }\n",
       "</style>\n",
       "<table border=\"1\" class=\"dataframe\">\n",
       "  <thead>\n",
       "    <tr style=\"text-align: right;\">\n",
       "      <th></th>\n",
       "      <th>values2</th>\n",
       "    </tr>\n",
       "  </thead>\n",
       "  <tbody>\n",
       "    <tr>\n",
       "      <th>2003-11-20 13:07:40</th>\n",
       "      <td>20.000000</td>\n",
       "    </tr>\n",
       "    <tr>\n",
       "      <th>2003-11-20 13:16:13</th>\n",
       "      <td>21.111111</td>\n",
       "    </tr>\n",
       "    <tr>\n",
       "      <th>2003-11-20 13:24:44</th>\n",
       "      <td>22.222222</td>\n",
       "    </tr>\n",
       "    <tr>\n",
       "      <th>2003-11-20 13:33:17</th>\n",
       "      <td>23.333333</td>\n",
       "    </tr>\n",
       "    <tr>\n",
       "      <th>2003-11-20 13:41:49</th>\n",
       "      <td>24.444444</td>\n",
       "    </tr>\n",
       "    <tr>\n",
       "      <th>2003-11-20 13:50:20</th>\n",
       "      <td>25.555556</td>\n",
       "    </tr>\n",
       "    <tr>\n",
       "      <th>2003-11-20 13:58:53</th>\n",
       "      <td>26.666667</td>\n",
       "    </tr>\n",
       "    <tr>\n",
       "      <th>2003-11-20 14:07:24</th>\n",
       "      <td>27.777778</td>\n",
       "    </tr>\n",
       "    <tr>\n",
       "      <th>2003-11-20 14:15:57</th>\n",
       "      <td>28.888889</td>\n",
       "    </tr>\n",
       "    <tr>\n",
       "      <th>2003-11-20 14:24:28</th>\n",
       "      <td>30.000000</td>\n",
       "    </tr>\n",
       "  </tbody>\n",
       "</table>\n",
       "</div>"
      ],
      "text/plain": [
       "                       values2\n",
       "2003-11-20 13:07:40  20.000000\n",
       "2003-11-20 13:16:13  21.111111\n",
       "2003-11-20 13:24:44  22.222222\n",
       "2003-11-20 13:33:17  23.333333\n",
       "2003-11-20 13:41:49  24.444444\n",
       "2003-11-20 13:50:20  25.555556\n",
       "2003-11-20 13:58:53  26.666667\n",
       "2003-11-20 14:07:24  27.777778\n",
       "2003-11-20 14:15:57  28.888889\n",
       "2003-11-20 14:24:28  30.000000"
      ]
     },
     "execution_count": 104,
     "metadata": {},
     "output_type": "execute_result"
    }
   ],
   "source": [
    "df_two"
   ]
  },
  {
   "cell_type": "markdown",
   "metadata": {},
   "source": [
    "Notice that df_two has 10 rows, whereas df_one has only 9 rows.  We will merge these DataFrames into df_three, using an inner join.  The index values that don't match will be dropped, which is OK for our purposes in this assignment. "
   ]
  },
  {
   "cell_type": "code",
   "execution_count": 111,
   "metadata": {},
   "outputs": [],
   "source": [
    "df_three = df_one.join(df_two)"
   ]
  },
  {
   "cell_type": "code",
   "execution_count": 112,
   "metadata": {},
   "outputs": [
    {
     "data": {
      "text/html": [
       "<div>\n",
       "<style scoped>\n",
       "    .dataframe tbody tr th:only-of-type {\n",
       "        vertical-align: middle;\n",
       "    }\n",
       "\n",
       "    .dataframe tbody tr th {\n",
       "        vertical-align: top;\n",
       "    }\n",
       "\n",
       "    .dataframe thead th {\n",
       "        text-align: right;\n",
       "    }\n",
       "</style>\n",
       "<table border=\"1\" class=\"dataframe\">\n",
       "  <thead>\n",
       "    <tr style=\"text-align: right;\">\n",
       "      <th></th>\n",
       "      <th>values1</th>\n",
       "      <th>values2</th>\n",
       "    </tr>\n",
       "  </thead>\n",
       "  <tbody>\n",
       "    <tr>\n",
       "      <th>2003-11-20 13:07:40</th>\n",
       "      <td>10.00</td>\n",
       "      <td>20.000000</td>\n",
       "    </tr>\n",
       "    <tr>\n",
       "      <th>2003-11-20 13:16:13</th>\n",
       "      <td>11.25</td>\n",
       "      <td>21.111111</td>\n",
       "    </tr>\n",
       "    <tr>\n",
       "      <th>2003-11-20 13:24:44</th>\n",
       "      <td>12.50</td>\n",
       "      <td>22.222222</td>\n",
       "    </tr>\n",
       "    <tr>\n",
       "      <th>2003-11-20 13:33:17</th>\n",
       "      <td>13.75</td>\n",
       "      <td>23.333333</td>\n",
       "    </tr>\n",
       "    <tr>\n",
       "      <th>2003-11-20 13:41:49</th>\n",
       "      <td>15.00</td>\n",
       "      <td>24.444444</td>\n",
       "    </tr>\n",
       "    <tr>\n",
       "      <th>2003-11-20 13:50:20</th>\n",
       "      <td>16.25</td>\n",
       "      <td>25.555556</td>\n",
       "    </tr>\n",
       "    <tr>\n",
       "      <th>2003-11-20 13:58:53</th>\n",
       "      <td>17.50</td>\n",
       "      <td>26.666667</td>\n",
       "    </tr>\n",
       "    <tr>\n",
       "      <th>2003-11-20 14:07:24</th>\n",
       "      <td>18.75</td>\n",
       "      <td>27.777778</td>\n",
       "    </tr>\n",
       "    <tr>\n",
       "      <th>2003-11-20 14:15:57</th>\n",
       "      <td>20.00</td>\n",
       "      <td>28.888889</td>\n",
       "    </tr>\n",
       "  </tbody>\n",
       "</table>\n",
       "</div>"
      ],
      "text/plain": [
       "                     values1    values2\n",
       "2003-11-20 13:07:40    10.00  20.000000\n",
       "2003-11-20 13:16:13    11.25  21.111111\n",
       "2003-11-20 13:24:44    12.50  22.222222\n",
       "2003-11-20 13:33:17    13.75  23.333333\n",
       "2003-11-20 13:41:49    15.00  24.444444\n",
       "2003-11-20 13:50:20    16.25  25.555556\n",
       "2003-11-20 13:58:53    17.50  26.666667\n",
       "2003-11-20 14:07:24    18.75  27.777778\n",
       "2003-11-20 14:15:57    20.00  28.888889"
      ]
     },
     "execution_count": 112,
     "metadata": {},
     "output_type": "execute_result"
    }
   ],
   "source": [
    "df_three"
   ]
  },
  {
   "cell_type": "markdown",
   "metadata": {},
   "source": [
    "Now we can write df_three to a CSV file."
   ]
  },
  {
   "cell_type": "code",
   "execution_count": 117,
   "metadata": {},
   "outputs": [],
   "source": [
    "df_three.to_csv('df_three.csv')"
   ]
  },
  {
   "cell_type": "markdown",
   "metadata": {},
   "source": [
    "The following code makes a simple example plot of the data.  More features will be required of your assigned plots, such as labels and a legend."
   ]
  },
  {
   "cell_type": "code",
   "execution_count": 120,
   "metadata": {},
   "outputs": [
    {
     "data": {
      "image/png": "[encoded data removed]",
      "text/plain": [
       "<Figure size 432x288 with 1 Axes>"
      ]
     },
     "metadata": {},
     "output_type": "display_data"
    }
   ],
   "source": [
    "fig = plt.figure()\n",
    "ax = plt.axes()\n",
    "ax.plot(df_three)\n",
    "labels = plt.xticks(rotation='vertical')"
   ]
  },
  {
   "cell_type": "markdown",
   "metadata": {},
   "source": [
    "Our temperature data includes some values that don't seem right.  These are outliers, and finding outliers using statistical methods is not part of this assignment.  But you do need to be able to print rows, for example, of Temperatures greater than 30 (30C)."
   ]
  },
  {
   "cell_type": "code",
   "execution_count": 122,
   "metadata": {},
   "outputs": [
    {
     "data": {
      "text/html": [
       "<div>\n",
       "<style scoped>\n",
       "    .dataframe tbody tr th:only-of-type {\n",
       "        vertical-align: middle;\n",
       "    }\n",
       "\n",
       "    .dataframe tbody tr th {\n",
       "        vertical-align: top;\n",
       "    }\n",
       "\n",
       "    .dataframe thead th {\n",
       "        text-align: right;\n",
       "    }\n",
       "</style>\n",
       "<table border=\"1\" class=\"dataframe\">\n",
       "  <thead>\n",
       "    <tr style=\"text-align: right;\">\n",
       "      <th></th>\n",
       "      <th>Temperature</th>\n",
       "    </tr>\n",
       "    <tr>\n",
       "      <th>DateTime</th>\n",
       "      <th></th>\n",
       "    </tr>\n",
       "  </thead>\n",
       "  <tbody>\n",
       "    <tr>\n",
       "      <th>2022-02-11 22:26:00</th>\n",
       "      <td>58.300000</td>\n",
       "    </tr>\n",
       "    <tr>\n",
       "      <th>2022-02-11 22:27:00</th>\n",
       "      <td>58.300000</td>\n",
       "    </tr>\n",
       "    <tr>\n",
       "      <th>2022-02-11 22:28:00</th>\n",
       "      <td>58.300000</td>\n",
       "    </tr>\n",
       "    <tr>\n",
       "      <th>2022-02-11 22:29:00</th>\n",
       "      <td>58.300000</td>\n",
       "    </tr>\n",
       "    <tr>\n",
       "      <th>2022-02-11 22:30:00</th>\n",
       "      <td>58.300000</td>\n",
       "    </tr>\n",
       "    <tr>\n",
       "      <th>...</th>\n",
       "      <td>...</td>\n",
       "    </tr>\n",
       "    <tr>\n",
       "      <th>2022-02-25 12:17:00</th>\n",
       "      <td>293.888889</td>\n",
       "    </tr>\n",
       "    <tr>\n",
       "      <th>2022-02-25 12:18:00</th>\n",
       "      <td>293.888889</td>\n",
       "    </tr>\n",
       "    <tr>\n",
       "      <th>2022-02-25 12:19:00</th>\n",
       "      <td>153.666667</td>\n",
       "    </tr>\n",
       "    <tr>\n",
       "      <th>2022-03-08 10:15:00</th>\n",
       "      <td>43.875000</td>\n",
       "    </tr>\n",
       "    <tr>\n",
       "      <th>2022-03-12 04:14:00</th>\n",
       "      <td>87.750000</td>\n",
       "    </tr>\n",
       "  </tbody>\n",
       "</table>\n",
       "<p>123 rows × 1 columns</p>\n",
       "</div>"
      ],
      "text/plain": [
       "                     Temperature\n",
       "DateTime                        \n",
       "2022-02-11 22:26:00    58.300000\n",
       "2022-02-11 22:27:00    58.300000\n",
       "2022-02-11 22:28:00    58.300000\n",
       "2022-02-11 22:29:00    58.300000\n",
       "2022-02-11 22:30:00    58.300000\n",
       "...                          ...\n",
       "2022-02-25 12:17:00   293.888889\n",
       "2022-02-25 12:18:00   293.888889\n",
       "2022-02-25 12:19:00   153.666667\n",
       "2022-03-08 10:15:00    43.875000\n",
       "2022-03-12 04:14:00    87.750000\n",
       "\n",
       "[123 rows x 1 columns]"
      ]
     },
     "execution_count": 122,
     "metadata": {},
     "output_type": "execute_result"
    }
   ],
   "source": [
    "#insert code here to print rows in node4temp where the temperature values is greater than 30"
   ]
  },
  {
   "cell_type": "markdown",
   "metadata": {},
   "source": [
    "<a id='here'></a>\n",
    "3. After reading/running the above cells (don't forget to fill in code where asked), you will ready to apply the same types of operations to complete the main assignment work, which is to \n",
    " * Observe the CSV files are data for temperature and relative humidity for 3 sensors, node4, node5, node6, which comprise 6 files.  Make up your own simple room names (be creative), like Kitchen, Nook, Closet, and we'll pretend the three nodes are in these rooms of your house.\n",
    " * Based on the techniques illustrated in the following Jupyter cells, add more cells as necessary to create two dataframes from the data, using variables temperature and humidity to hold them, with hourly mean values.  Supply a markdown cell above each code cell to explain in your own words what the code cell is doing.  Each dataframe will have three columns of data (plus the datetime index), labeled with your three room names.\n",
    " * Create cells that will write out CSV files for the two main dataframes, as well as CSV files for dataframes representing the monthly maximum values, and monthly minimum values (this adds up to 6 CSV files in total)\n",
    " * Create markdown and code cells to plot the temperatures for July 2021 in the three rooms on one plot, and do the same for humidity\n",
    " * The plots in the above point should have a title, x-label, y-label, and a legend (revisit https://jakevdp.github.io/PythonDataScienceHandbook/04.01-simple-line-plots.html)\n",
    " * Submit just your completed version of this Jupyter notebook.\n",
    " * Demonstrate your work to your lab instructor, being prepared to explain things if asked."
   ]
  },
  {
   "cell_type": "code",
   "execution_count": null,
   "metadata": {},
   "outputs": [],
   "source": []
  }
 ],
 "metadata": {
  "kernelspec": {
   "display_name": "Python 3",
   "language": "python",
   "name": "python3"
  },
  "language_info": {
   "codemirror_mode": {
    "name": "ipython",
    "version": 3
   },
   "file_extension": ".py",
   "mimetype": "text/x-python",
   "name": "python",
   "nbconvert_exporter": "python",
   "pygments_lexer": "ipython3",
   "version": "3.8.10"
  }
 },
 "nbformat": 4,
 "nbformat_minor": 5
}
